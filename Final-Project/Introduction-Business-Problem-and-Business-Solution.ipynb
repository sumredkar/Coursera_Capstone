{
 "cells": [
  {
   "cell_type": "markdown",
   "metadata": {},
   "source": [
    "# Bussness Problem"
   ]
  },
  {
   "cell_type": "markdown",
   "metadata": {},
   "source": [
    "New York is a Populated city. Customer is new to the New York City. He wants to explore the Queens and Manhattan Borough in New York City. \n",
    "New York city is very big and very populated city. Exploring city and finding the difference between Boroughs will be very difficult to the Customer. \n",
    "\n",
    "Question considering the 2 Boroughs (Queens and Manhattan)\n",
    "1. Difference between Boroughs?\n",
    "2. Most common venue in both the Borough?\n",
    "3. Most categorical neighbourhood in both the Borough?\n",
    "4. Difference between borough based on categorical venues?\n",
    "\n",
    "Customer find best solution to above questions is to compare the both the borough and find the the answers for the questions. Comparing both Borough will help him to find out all the related information he wants to know.\n"
   ]
  },
  {
   "cell_type": "markdown",
   "metadata": {},
   "source": [
    "# Data Description "
   ]
  },
  {
   "cell_type": "markdown",
   "metadata": {},
   "source": [
    "For this project we need the following data:\n",
    "\n",
    "New York data sheet with Neighbourhood names, latitude, longitude and Download it from given link in week 3 assignments.\n",
    "Description: This data set contains the required information. And we will use this data set to explore various neighbourhoods and borough of New York city.\n",
    "API\n",
    "Foursquare API: https://developer.foursquare.com/\n",
    "\n",
    "Description: By using the foursquare api we will be able to explore the nearby venues of the different borough in New York city. \n",
    "\n",
    "Folium Library\n",
    "\n",
    "Description: used to create the map\n",
    "\n",
    "WordCloud\n",
    "\n",
    "Description: Used to visualise the words (names) which are most common."
   ]
  },
  {
   "cell_type": "markdown",
   "metadata": {},
   "source": [
    "# Bussness Solution"
   ]
  },
  {
   "cell_type": "markdown",
   "metadata": {},
   "source": [
    "For this we need to explore Queens and Manhattan Boroughs in the New York City dataset.  \n",
    "We will Use dataset given in the week 3 assignment to explore more about the boroughs. \n",
    "First we will do data cleaning from the New York dataset to proceed further. \n",
    "After this we will extract data for Queens Borough and Manhattan Borough from New York Datasets.  \n",
    "\n",
    "We will get the latitude and longitude of both the Borough using Geocoder and used this latitude and longitude in Foursquare API to get the Nearby venues of the both Borough.\n",
    "\n",
    "We will visualise data for comparison using Map, Word Cloud for better visualization and Also will compares bar charts to see which is most categorical Neighbourhoods of both the Boroughs. "
   ]
  },
  {
   "cell_type": "code",
   "execution_count": null,
   "metadata": {},
   "outputs": [],
   "source": []
  }
 ],
 "metadata": {
  "kernelspec": {
   "display_name": "Python 3",
   "language": "python",
   "name": "python3"
  },
  "language_info": {
   "codemirror_mode": {
    "name": "ipython",
    "version": 3
   },
   "file_extension": ".py",
   "mimetype": "text/x-python",
   "name": "python",
   "nbconvert_exporter": "python",
   "pygments_lexer": "ipython3",
   "version": "3.7.6"
  }
 },
 "nbformat": 4,
 "nbformat_minor": 4
}
